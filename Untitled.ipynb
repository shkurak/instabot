{
 "cells": [
  {
   "cell_type": "code",
   "execution_count": null,
   "metadata": {},
   "outputs": [],
   "source": [
    "from InstagramAPI import InstagramAPI\n",
    "from extended_api import extended_api\n",
    "import sys\n",
    "import json\n",
    "import time\n",
    "import random\n",
    "\n",
    "\n",
    "\n",
    "\n",
    "user = 'shkurakivan'\n",
    "pwd = 'gFhjkm1ycnf'\n",
    "\n",
    "interval = (15000, 20000)\n",
    "\n",
    "while True:\n",
    "    \n",
    "    Inst = extended_api(user, pwd, random_timestamp_interval = (1, 15))\n",
    "    \n",
    "    old_stdout = sys.stdout\n",
    "    sys.stdout = open(\"stdout_log.txt\", \"a\")\n",
    "    file_for_jsons = open(\"jsons_log.txt\", \"a\")\n",
    "    print('\\nStart session ' + time.ctime()+ '\\n')\n",
    "\n",
    "\n",
    "\n",
    "    Inst.login()\n",
    "\n",
    "\n",
    "\n",
    "    Jsons = Inst.likeFeedposts()\n",
    "    file_for_jsons.write('\\nStart session ' + time.ctime()+ '\\n')\n",
    "    for j in Jsons:\n",
    "        json.dump(j,file_for_jsons)\n",
    "        file_for_jsons.write('\\n')\n",
    "        \n",
    "        \n",
    "    file_for_jsons.write('\\nEnd session ' + time.ctime() + '\\n')\n",
    "\n",
    "    Inst.logout()\n",
    "\n",
    "    print('\\nEnd session ' + time.ctime() + '\\n')\n",
    "\n",
    "    \n",
    "    \n",
    "    time_to_sleep = random.uniform(interval[0], interval[1])\n",
    "    print('Next session in ', time_to_sleep, ' sec   That mean in ', time_to_sleep/3600, ' hours')\n",
    "    \n",
    "    file_for_jsons.close()\n",
    "    sys.stdout = old_stdout\n",
    "    time.sleep(time_to_sleep)"
   ]
  },
  {
   "cell_type": "code",
   "execution_count": null,
   "metadata": {},
   "outputs": [],
   "source": [
    "import extended_api"
   ]
  },
  {
   "cell_type": "code",
   "execution_count": 1,
   "metadata": {},
   "outputs": [
    {
     "name": "stdout",
     "output_type": "stream",
     "text": [
      "Fail to import moviepy. Need only for Video upload.\n",
      "extended_api imported\n"
     ]
    }
   ],
   "source": [
    "from extended_api import extended_api"
   ]
  },
  {
   "cell_type": "code",
   "execution_count": null,
   "metadata": {},
   "outputs": [],
   "source": []
  }
 ],
 "metadata": {
  "kernelspec": {
   "display_name": "Python 3",
   "language": "python",
   "name": "python3"
  },
  "language_info": {
   "codemirror_mode": {
    "name": "ipython",
    "version": 3
   },
   "file_extension": ".py",
   "mimetype": "text/x-python",
   "name": "python",
   "nbconvert_exporter": "python",
   "pygments_lexer": "ipython3",
   "version": "3.6.4"
  }
 },
 "nbformat": 4,
 "nbformat_minor": 2
}
