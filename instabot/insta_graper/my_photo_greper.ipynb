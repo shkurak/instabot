{
 "cells": [
  {
   "cell_type": "code",
   "execution_count": 150,
   "metadata": {},
   "outputs": [],
   "source": [
    "from InstagramAPI import InstagramAPI"
   ]
  },
  {
   "cell_type": "code",
   "execution_count": 151,
   "metadata": {},
   "outputs": [],
   "source": [
    "import requests"
   ]
  },
  {
   "cell_type": "code",
   "execution_count": 152,
   "metadata": {},
   "outputs": [],
   "source": [
    "API = InstagramAPI(\"shkurakivan\", \"\")"
   ]
  },
  {
   "cell_type": "code",
   "execution_count": 153,
   "metadata": {
    "scrolled": false
   },
   "outputs": [
    {
     "name": "stdout",
     "output_type": "stream",
     "text": [
      "Login success!\n",
      "\n"
     ]
    },
    {
     "data": {
      "text/plain": [
       "True"
      ]
     },
     "execution_count": 153,
     "metadata": {},
     "output_type": "execute_result"
    }
   ],
   "source": [
    "API.login()"
   ]
  },
  {
   "cell_type": "code",
   "execution_count": 134,
   "metadata": {
    "scrolled": true
   },
   "outputs": [],
   "source": [
    "urls = []\n",
    "API.getSelfUserFeed()\n",
    "there_is_next = True\n",
    "while len(API.LastJson['items']) > 0:\n",
    "    for item in API.LastJson['items']:\n",
    "        if item['media_type'] == 1:\n",
    "            url = item['image_versions2']['candidates'][0]['url']\n",
    "            urls.append(url)\n",
    "        elif item['media_type'] == 8:\n",
    "            for photo in item['carousel_media']:\n",
    "                url = photo['image_versions2']['candidates'][0]['url']\n",
    "                urls.append(url)\n",
    "    API.getSelfUserFeed(item['id'])"
   ]
  },
  {
   "cell_type": "code",
   "execution_count": 149,
   "metadata": {},
   "outputs": [],
   "source": [
    "path_to_save = '/home/shkiv/Pictures/instagram/'\n",
    "for url in urls:\n",
    "    response = requests.get(url)\n",
    "    with open(path_to_save + url.split('/')[-1].split('?')[0], 'bw') as file:\n",
    "        file.write(response.content)"
   ]
  }
 ],
 "metadata": {
  "kernelspec": {
   "display_name": "Python 3",
   "language": "python",
   "name": "python3"
  },
  "language_info": {
   "codemirror_mode": {
    "name": "ipython",
    "version": 3
   },
   "file_extension": ".py",
   "mimetype": "text/x-python",
   "name": "python",
   "nbconvert_exporter": "python",
   "pygments_lexer": "ipython3",
   "version": "3.6.4"
  }
 },
 "nbformat": 4,
 "nbformat_minor": 2
}
